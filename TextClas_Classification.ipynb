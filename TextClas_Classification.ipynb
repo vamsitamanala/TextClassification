{
 "cells": [
  {
   "cell_type": "markdown",
   "metadata": {
    "id": "tovUxIBbEI56"
   },
   "source": [
    "**Prepare the data:** create random samples of 200 documents of each book, representative of the source input. Prepare the records of 100 words records for each document, label them as a, b and c etc. as per the book they belong to.\n",
    "\n",
    "**Preprocess the data:** remove stop-words and garbage characters if needed.\n",
    "\n",
    "**Transform** to BOW, and TF-IDF, n-gram, (LDA, word-embedding, optional) etc.\n",
    "\n",
    "**Train** a machine that can tell which author (or genre), when asked!\n",
    "\n",
    "**Evaluation:** Do ten-fold cross-validation.\n",
    "\n",
    "**Perform Error-Analysis:** Identity what were the characteristics of the instance records that threw the machine off.\n",
    "\n",
    "Document your steps, explain the results effectively, using graphs.\n",
    "\n",
    "Verify and validate your programs; Make sure your programs run without syntax or logical errors.\n",
    "\n",
    "**Massage the data:** Reduce the number of words per document if the accuracy is too high and then repeat the above steps."
   ]
  },
  {
   "cell_type": "markdown",
   "metadata": {
    "id": "G6qs9wOJEV9L"
   },
   "source": [
    "## Table of Contents\n",
    "\n",
    "\n",
    "1. Environment Setup\n",
    "2. Data Preparation\n",
    "3. Data Transformations\n",
    "-  Bag-of-Words using CountVectorizer()\n",
    "-  Term Frequency–Inverse Document Frequency (TF-IDF) \n",
    "-  Word2Vec\n",
    "-  LDA\n",
    "4. Machine Learning Model Experimentation\n",
    "-  Fitting models with only BOW\n",
    "-  Fitting models with BOW + TF-IDF\n",
    "-  Fitting models without removing StopWords and Punctuation\n",
    "-  Fitting models with lesser number of words\n",
    "5. Model Evaluation\n"
   ]
  },
  {
   "cell_type": "markdown",
   "metadata": {
    "id": "k_UmXL67FvSv"
   },
   "source": [
    "## 1. Environment Setup"
   ]
  },
  {
   "cell_type": "code",
   "execution_count": 44,
   "metadata": {
    "colab": {
     "base_uri": "https://localhost:8080/"
    },
    "id": "B0thk-KKFrBy",
    "outputId": "629b90e6-8466-4e49-d539-595ff17eaf4a"
   },
   "outputs": [
    {
     "name": "stderr",
     "output_type": "stream",
     "text": [
      "[nltk_data] Downloading package gutenberg to\n",
      "[nltk_data]     C:\\Users\\shobh\\AppData\\Roaming\\nltk_data...\n",
      "[nltk_data]   Package gutenberg is already up-to-date!\n",
      "[nltk_data] Downloading package stopwords to\n",
      "[nltk_data]     C:\\Users\\shobh\\AppData\\Roaming\\nltk_data...\n",
      "[nltk_data]   Package stopwords is already up-to-date!\n",
      "[nltk_data] Downloading package punkt to\n",
      "[nltk_data]     C:\\Users\\shobh\\AppData\\Roaming\\nltk_data...\n",
      "[nltk_data]   Package punkt is already up-to-date!\n"
     ]
    }
   ],
   "source": [
    "# Data manipulation libraries\n",
    "import numpy as np\n",
    "import pandas as pd\n",
    "import string\n",
    "import textwrap\n",
    "import re\n",
    "import gensim \n",
    "import spacy\n",
    "import gensim.models\n",
    "import logging  # Setting up the loggings to monitor gensim\n",
    "import multiprocessing\n",
    "\n",
    "\n",
    "# Natural Language Processing libraries\n",
    "import nltk\n",
    "nltk.download('gutenberg')\n",
    "nltk.download('stopwords')\n",
    "nltk.download('punkt')\n",
    "from nltk.corpus import gutenberg as gut\n",
    "from nltk.corpus import stopwords\n",
    "from nltk.collocations import *\n",
    "from nltk.tokenize import RegexpTokenizer\n",
    "from nltk.probability import FreqDist\n",
    "from nltk.tokenize import sent_tokenize, word_tokenize \n",
    "from time import time  # To time our operations\n",
    "from collections import defaultdict  # For word frequency\n",
    "from gensim.models.phrases import Phrases, Phraser\n",
    "\n",
    "# Data Visualization libraries\n",
    "import matplotlib.pyplot as plt\n",
    "import seaborn as sns\n",
    "%matplotlib inline\n",
    "\n",
    "# Scikit-learn Packages\n",
    "from sklearn.pipeline import Pipeline, FeatureUnion\n",
    "from sklearn.feature_extraction.text import CountVectorizer, TfidfTransformer\n",
    "from sklearn.model_selection import train_test_split, cross_val_score\n",
    "from sklearn.metrics import classification_report, confusion_matrix\n",
    "from sklearn.metrics import accuracy_score, precision_score, recall_score, f1_score\n",
    "from sklearn.model_selection import RandomizedSearchCV, GridSearchCV\n",
    "from gensim.models import Word2Vec\n",
    "from spacy import displacy\n",
    "\n",
    "# Import Machine Learning Models\n",
    "from sklearn.ensemble import RandomForestClassifier\n",
    "from sklearn.svm import SVC\n",
    "from sklearn.neighbors import KNeighborsClassifier"
   ]
  },
  {
   "cell_type": "markdown",
   "metadata": {
    "id": "lWk1oz4hF3JR"
   },
   "source": [
    "## 2. Data Preparation"
   ]
  },
  {
   "cell_type": "code",
   "execution_count": 45,
   "metadata": {
    "id": "2kFpB1YuF6Ug"
   },
   "outputs": [],
   "source": [
    "# Function to remove punctuations and stopwords\n",
    "def text_process_clean(mess):\n",
    "    remove_punc = [char for char in mess if char not in string.punctuation]\n",
    "    remove_punc = ''.join(remove_punc)\n",
    "    word=[word+' ' for word in remove_punc.split() if word.lower() not in stopwords.words('english')]\n",
    "    return re.sub(r\"\\b\\d+\\b\",\"\",(\"\".join(word)))\n",
    "\n",
    "# Function to remove punctuations and stopwords\n",
    "def text_process(mess):\n",
    "    remove_punc = [char for char in mess if char not in string.punctuation]\n",
    "    remove_punc = ''.join(remove_punc)\n",
    "    #word=[word+' ' for word in remove_punc.split() if word.lower() not in stopwords.words('english')]\n",
    "    return [word for word in remove_punc.split() if word.lower() not in stopwords.words('english')]"
   ]
  },
  {
   "cell_type": "code",
   "execution_count": 46,
   "metadata": {
    "id": "7xum16dOGH62"
   },
   "outputs": [],
   "source": [
    "# Dataset according to the requirements of the assignment\n",
    "\n",
    "tokenizer = RegexpTokenizer('\\s+', gaps=True)\n",
    "Book_dict={\"A\":\"austen-emma.txt\", \"B\":\"bible-kjv.txt\", \"C\":\"carroll-alice.txt\",\n",
    "           \"D\":\"chesterton-thursday.txt\", \"E\":\"shakespeare-caesar.txt\"}\n",
    "Sampling=[]\n",
    "Records=[]\n",
    "for index_count in Book_dict:\n",
    "    doc = \"\"\n",
    "    labeled_docs=[]\n",
    "    count,j=0,0\n",
    "    text=nltk.corpus.gutenberg.raw(Book_dict[index_count])\n",
    "    tokenized_word=tokenizer.tokenize(text)\n",
    "    for i, word in enumerate(tokenized_word):\n",
    "        if(j<101):\n",
    "            if(re.search('\\w',word) and word!=''):\n",
    "                doc=doc+' '+word\n",
    "            else:\n",
    "                doc=doc+word\n",
    "            j+=1\n",
    "        else:\n",
    "            count+=1\n",
    "            j=0\n",
    "            labeled_docs.append(doc)\n",
    "            doc=word\n",
    "    ser=pd.Series(labeled_docs)\n",
    "    for i in ser.sample(200).values:\n",
    "        Sampling.append(i)\n",
    "        Records.append(index_count)\n",
    "df = pd.DataFrame(list(zip(Sampling,Records)), columns=[\"Data\", \"Target\"])\n",
    "df[\"Cleaned\"] = df[\"Data\"].apply(text_process_clean)\n",
    "df[\"Words\"]   = df[\"Data\"].apply(text_process)\n",
    "\n",
    "\n",
    "# Dataset with reduced number of words\n",
    "\n",
    "for index_count in Book_dict:\n",
    "    doc = \"\"\n",
    "    labeled_docs=[]\n",
    "    count,j=0,0\n",
    "    text=nltk.corpus.gutenberg.raw(Book_dict[index_count])\n",
    "    tokenized_word=tokenizer.tokenize(text)\n",
    "    for i, word in enumerate(tokenized_word):\n",
    "        if(j<20):\n",
    "            if(re.search('\\w',word) and word!=''):\n",
    "                doc=doc+' '+word\n",
    "            else:\n",
    "                doc=doc+word\n",
    "            j+=1\n",
    "        else:\n",
    "            count+=1\n",
    "            j=0\n",
    "            labeled_docs.append(doc)\n",
    "            doc=word\n",
    "    ser=pd.Series(labeled_docs)\n",
    "    for i in ser.sample(200).values:\n",
    "        Sampling.append(i)\n",
    "        Records.append(index_count)\n",
    "df_new = pd.DataFrame(list(zip(Sampling,Records)), columns=[\"Data\", \"Target\"])"
   ]
  },
  {
   "cell_type": "code",
   "execution_count": 60,
   "metadata": {},
   "outputs": [
    {
     "data": {
      "text/plain": [
       "'done love like man soon discomposed hot morning Harriets sweet easy temper mind gone long enough comfortable meal came back bettergrown quite cooland good manners like himselfable draw chair close take interest employment regret reasonable way late best spirits seemed trying improve last made talk nonsense '"
      ]
     },
     "execution_count": 60,
     "metadata": {},
     "output_type": "execute_result"
    }
   ],
   "source": [
    "df[\"Cleaned\"][0]"
   ]
  },
  {
   "cell_type": "markdown",
   "metadata": {
    "id": "tAzHpQsDGX9N"
   },
   "source": [
    "## 3. Data Transformations\n",
    "### 3.1 Bag-of-Words Using CountVectorizer()"
   ]
  },
  {
   "cell_type": "code",
   "execution_count": 4,
   "metadata": {
    "colab": {
     "base_uri": "https://localhost:8080/"
    },
    "id": "nUMGUgrFG1MZ",
    "outputId": "fd364f74-c680-4165-d2d8-733462387b62"
   },
   "outputs": [
    {
     "name": "stdout",
     "output_type": "stream",
     "text": [
      "Vocabulary Length:  11295\n",
      "  (0, 2109)\t2\n",
      "  (0, 2981)\t2\n",
      "  (0, 3829)\t1\n",
      "  (0, 4419)\t1\n",
      "  (0, 4456)\t1\n",
      "  (0, 4560)\t1\n",
      "  (0, 4575)\t1\n",
      "  (0, 4581)\t1\n",
      "  (0, 5404)\t1\n",
      "  (0, 5410)\t2\n",
      "  (0, 5432)\t1\n",
      "  (0, 5510)\t1\n",
      "  (0, 5599)\t1\n",
      "  (0, 6239)\t1\n",
      "  (0, 6352)\t1\n",
      "  (0, 7062)\t1\n",
      "  (0, 7305)\t1\n",
      "  (0, 7417)\t1\n",
      "  (0, 7544)\t1\n",
      "  (0, 7572)\t1\n",
      "  (0, 7612)\t1\n",
      "  (0, 7620)\t1\n",
      "  (0, 7685)\t1\n",
      "  (0, 7706)\t1\n",
      "  (0, 7770)\t1\n",
      "  :\t:\n",
      "  (999, 2848)\t1\n",
      "  (999, 2867)\t1\n",
      "  (999, 2947)\t1\n",
      "  (999, 3008)\t1\n",
      "  (999, 3041)\t1\n",
      "  (999, 3487)\t1\n",
      "  (999, 3762)\t1\n",
      "  (999, 4174)\t1\n",
      "  (999, 4793)\t1\n",
      "  (999, 5174)\t1\n",
      "  (999, 5802)\t1\n",
      "  (999, 6120)\t1\n",
      "  (999, 6548)\t2\n",
      "  (999, 6652)\t1\n",
      "  (999, 7054)\t1\n",
      "  (999, 7073)\t1\n",
      "  (999, 7981)\t1\n",
      "  (999, 7986)\t1\n",
      "  (999, 8924)\t1\n",
      "  (999, 9481)\t1\n",
      "  (999, 9516)\t1\n",
      "  (999, 10314)\t2\n",
      "  (999, 10364)\t3\n",
      "  (999, 10905)\t1\n",
      "  (999, 11138)\t1\n",
      "Shape of Sparse Matrix:  (1000, 11295)\n",
      "Amount of Non-Zero occurences:  43772\n"
     ]
    }
   ],
   "source": [
    "bow_fit = CountVectorizer(analyzer=text_process).fit(df['Data'])\n",
    "bow_transform = bow_fit.transform(df['Data'])\n",
    "print('Vocabulary Length: ', len(bow_fit.vocabulary_))\n",
    "print(bow_transform)\n",
    "print('Shape of Sparse Matrix: ', bow_transform.shape)\n",
    "print('Amount of Non-Zero occurences: ', bow_transform.nnz)"
   ]
  },
  {
   "cell_type": "markdown",
   "metadata": {
    "id": "bG5150vPHJF-"
   },
   "source": [
    "### 3.2 Term Frequency–Inverse Document Frequency (TF-IDF)"
   ]
  },
  {
   "cell_type": "code",
   "execution_count": 5,
   "metadata": {
    "colab": {
     "base_uri": "https://localhost:8080/"
    },
    "id": "WYmxc660HY3S",
    "outputId": "5a309cba-ad38-4388-d03e-aa8cab32511e"
   },
   "outputs": [
    {
     "name": "stdout",
     "output_type": "stream",
     "text": [
      "  (0, 11136)\t0.13409384805278682\n",
      "  (0, 10289)\t0.08877109573470515\n",
      "  (0, 10036)\t0.16667275448514104\n",
      "  (0, 10009)\t0.13907899091689244\n",
      "  (0, 9502)\t0.13647790975418064\n",
      "  (0, 9157)\t0.16496966946224442\n",
      "  (0, 9103)\t0.05751604883910416\n",
      "  (0, 8837)\t0.1704907076661909\n",
      "  (0, 8298)\t0.15507962444373388\n",
      "  (0, 8146)\t0.20630992790092367\n",
      "  (0, 7928)\t0.14382592484206846\n",
      "  (0, 7770)\t0.09944181750110981\n",
      "  (0, 7706)\t0.08877109573470515\n",
      "  (0, 7685)\t0.08900642362084686\n",
      "  (0, 7620)\t0.16330508111021802\n",
      "  (0, 7612)\t0.1704907076661909\n",
      "  (0, 7572)\t0.1748982111516252\n",
      "  (0, 7544)\t0.12985019703159106\n",
      "  (0, 7417)\t0.10548360445842873\n",
      "  (0, 7305)\t0.10590720000992541\n",
      "  (0, 7062)\t0.1575674691148309\n",
      "  (0, 6352)\t0.12794334546349748\n",
      "  (0, 6239)\t0.1748982111516252\n",
      "  (0, 5599)\t0.20630992790092367\n",
      "  (0, 5510)\t0.09811170899115698\n",
      "  :\t:\n",
      "  (999, 2563)\t0.1349350165934522\n",
      "  (999, 2514)\t0.14296883397183752\n",
      "  (999, 2463)\t0.14296883397183752\n",
      "  (999, 2349)\t0.14296883397183752\n",
      "  (999, 2343)\t0.14296883397183752\n",
      "  (999, 2342)\t0.14296883397183752\n",
      "  (999, 2116)\t0.1349350165934522\n",
      "  (999, 2113)\t0.1248136036988044\n",
      "  (999, 2041)\t0.14296883397183752\n",
      "  (999, 1908)\t0.1349350165934522\n",
      "  (999, 1839)\t0.14296883397183752\n",
      "  (999, 1692)\t0.14296883397183752\n",
      "  (999, 1668)\t0.12923493245083226\n",
      "  (999, 1456)\t0.2496272073976088\n",
      "  (999, 1349)\t0.07803604004972017\n",
      "  (999, 1146)\t0.1349350165934522\n",
      "  (999, 1086)\t0.1349350165934522\n",
      "  (999, 1064)\t0.1349350165934522\n",
      "  (999, 969)\t0.14296883397183752\n",
      "  (999, 966)\t0.14296883397183752\n",
      "  (999, 936)\t0.0664729855608015\n",
      "  (999, 735)\t0.14296883397183752\n",
      "  (999, 733)\t0.14296883397183752\n",
      "  (999, 648)\t0.12120111507244696\n",
      "  (999, 157)\t0.14296883397183752\n"
     ]
    }
   ],
   "source": [
    "tfidf_transform = TfidfTransformer().fit(bow_transform)\n",
    "tfidf = tfidf_transform.transform(bow_transform)\n",
    "print(tfidf)"
   ]
  },
  {
   "cell_type": "markdown",
   "metadata": {
    "id": "KZ3XGiNbHdlf"
   },
   "source": [
    "### 3.3 Word2Vec"
   ]
  },
  {
   "cell_type": "code",
   "execution_count": 6,
   "metadata": {
    "id": "GoPRjg0pHjbL"
   },
   "outputs": [],
   "source": [
    "# *** Include Word2Vec Code and Visualization ***"
   ]
  },
  {
   "cell_type": "markdown",
   "metadata": {
    "id": "6NfB7_GjRyQ8"
   },
   "source": [
    "### 3.4 LDA"
   ]
  },
  {
   "cell_type": "code",
   "execution_count": 7,
   "metadata": {
    "id": "GXIamWAZR1Jh"
   },
   "outputs": [
    {
     "name": "stdout",
     "output_type": "stream",
     "text": [
      "Number of unique tokens: 405\n",
      "Number of documents: 1000\n",
      "Average topic coherence: -2.6737.\n",
      "[([(0.0473955, 'caesar'),\n",
      "   (0.03383788, 'brutus'),\n",
      "   (0.032096103, 'bru'),\n",
      "   (0.030637624, 'haue'),\n",
      "   (0.023675675, 'shall'),\n",
      "   (0.022468634, 'cassi'),\n",
      "   (0.01844255, 'come'),\n",
      "   (0.017864557, 'cassius'),\n",
      "   (0.015974773, 'antony'),\n",
      "   (0.014630223, 'let'),\n",
      "   (0.014218344, 'men'),\n",
      "   (0.01387452, 'good'),\n",
      "   (0.013657521, 'enter'),\n",
      "   (0.013519571, 'know'),\n",
      "   (0.013094191, 'thou'),\n",
      "   (0.012824464, 'v'),\n",
      "   (0.011676773, 'heere'),\n",
      "   (0.011060715, 'man'),\n",
      "   (0.010218449, 'ant'),\n",
      "   (0.009960085, 'well')],\n",
      "  -1.5903240397448868),\n",
      " ([(0.062068317, 'mr'),\n",
      "   (0.025100755, 'would'),\n",
      "   (0.02295857, 'emma'),\n",
      "   (0.020269489, 'miss'),\n",
      "   (0.0187602, 'could'),\n",
      "   (0.01739807, 'must'),\n",
      "   (0.016288104, 'weston'),\n",
      "   (0.015589143, 'mr_weston'),\n",
      "   (0.014671926, 'one'),\n",
      "   (0.014135759, 'much'),\n",
      "   (0.013277915, 'said'),\n",
      "   (0.012156235, 'say'),\n",
      "   (0.011691427, 'thing'),\n",
      "   (0.011431327, 'know'),\n",
      "   (0.011121258, 'think'),\n",
      "   (0.011030327, 'knightley'),\n",
      "   (0.010992399, 'harriet'),\n",
      "   (0.010752727, 'might'),\n",
      "   (0.010411981, 'time'),\n",
      "   (0.010393787, 'always')],\n",
      "  -1.8125350497870356),\n",
      " ([(0.06792011, 'said'),\n",
      "   (0.060723696, 'alice'),\n",
      "   (0.018864429, 'said_alice'),\n",
      "   (0.016283134, 'little'),\n",
      "   (0.0142862145, 'like'),\n",
      "   (0.014041343, 'queen'),\n",
      "   (0.013024107, 'one'),\n",
      "   (0.012413804, 'know'),\n",
      "   (0.012241753, 'thought'),\n",
      "   (0.01150444, 'went'),\n",
      "   (0.011372396, 'king'),\n",
      "   (0.011055101, 'head'),\n",
      "   (0.011008644, 'see'),\n",
      "   (0.010684365, 'cat'),\n",
      "   (0.010271248, 'could'),\n",
      "   (0.0097593, 'well'),\n",
      "   (0.009566584, 'began'),\n",
      "   (0.009486344, 'would'),\n",
      "   (0.009423684, 'thing'),\n",
      "   (0.009264384, 'looked')],\n",
      "  -1.8822651195265834),\n",
      " ([(0.05475002, 'shall'),\n",
      "   (0.050333593, 'unto'),\n",
      "   (0.046687998, 'lord'),\n",
      "   (0.024830317, 'thy'),\n",
      "   (0.024155784, 'ye'),\n",
      "   (0.022900535, 'god'),\n",
      "   (0.022689575, 'said'),\n",
      "   (0.020512033, 'thee'),\n",
      "   (0.01970669, 'thou'),\n",
      "   (0.01921272, 'son'),\n",
      "   (0.015881155, 'upon'),\n",
      "   (0.015512614, 'israel'),\n",
      "   (0.015377072, 'day'),\n",
      "   (0.014718042, 'man'),\n",
      "   (0.013806397, 'house'),\n",
      "   (0.012636993, 'king'),\n",
      "   (0.011984149, 'people'),\n",
      "   (0.011921134, 'came'),\n",
      "   (0.010902684, 'father'),\n",
      "   (0.010653316, 'land')],\n",
      "  -1.9100085106904143),\n",
      " ([(0.053429995, 'syme'),\n",
      "   (0.045041498, 'said'),\n",
      "   (0.030596998, 'man'),\n",
      "   (0.024708103, 'like'),\n",
      "   (0.018830242, 'professor'),\n",
      "   (0.015945878, 'gregory'),\n",
      "   (0.015282747, 'one'),\n",
      "   (0.013034144, 'face'),\n",
      "   (0.011396598, 'sunday'),\n",
      "   (0.011178477, 'eye'),\n",
      "   (0.01037639, 'bull'),\n",
      "   (0.010099526, 'hand'),\n",
      "   (0.010064134, 'anarchist'),\n",
      "   (0.0097162705, 'street'),\n",
      "   (0.009282658, 'know'),\n",
      "   (0.009204675, 'almost'),\n",
      "   (0.009060072, 'could'),\n",
      "   (0.009045693, 'see'),\n",
      "   (0.008743114, 'last'),\n",
      "   (0.008709083, 'came')],\n",
      "  -2.2422585050191226),\n",
      " ([(0.03841781, 'little'),\n",
      "   (0.023788443, 'never'),\n",
      "   (0.021650223, 'time'),\n",
      "   (0.018957308, 'thing'),\n",
      "   (0.018927744, 'could'),\n",
      "   (0.01764437, 'thought'),\n",
      "   (0.017359734, 'know'),\n",
      "   (0.01631317, 'one'),\n",
      "   (0.015125138, 'felt'),\n",
      "   (0.014209301, 'however'),\n",
      "   (0.013925943, 'suppose'),\n",
      "   (0.013922808, 'like'),\n",
      "   (0.013433979, 'think'),\n",
      "   (0.013264965, 'indeed'),\n",
      "   (0.011518756, 'sure'),\n",
      "   (0.010698638, 'garden'),\n",
      "   (0.010397864, 'well'),\n",
      "   (0.0102185225, 'make'),\n",
      "   (0.010130965, 'next'),\n",
      "   (0.0098972535, 'would')],\n",
      "  -2.274677627927063),\n",
      " ([(0.09181098, 'one'),\n",
      "   (0.03450691, 'could'),\n",
      "   (0.032772325, 'would'),\n",
      "   (0.028820578, 'five'),\n",
      "   (0.025935858, 'two'),\n",
      "   (0.022788005, 'side'),\n",
      "   (0.0210296, 'first'),\n",
      "   (0.01931353, 'light'),\n",
      "   (0.01910519, 'hundred'),\n",
      "   (0.017570578, 'three'),\n",
      "   (0.016266996, 'see'),\n",
      "   (0.016082723, 'men'),\n",
      "   (0.015229482, 'thing'),\n",
      "   (0.01397987, 'made'),\n",
      "   (0.011766653, 'took'),\n",
      "   (0.010882959, 'round'),\n",
      "   (0.0106399385, 'every'),\n",
      "   (0.010577025, 'head'),\n",
      "   (0.010515029, 'face'),\n",
      "   (0.010494729, 'nothing')],\n",
      "  -2.794164262557143),\n",
      " ([(0.09843662, 'said'),\n",
      "   (0.02433365, 'mock'),\n",
      "   (0.02416814, 'alice'),\n",
      "   (0.022219492, 'gryphon'),\n",
      "   (0.019262813, 'mean'),\n",
      "   (0.018899271, 'shall'),\n",
      "   (0.0180847, 'old'),\n",
      "   (0.01687623, 'dont'),\n",
      "   (0.016550403, 'say'),\n",
      "   (0.01654366, 'would'),\n",
      "   (0.016053244, 'syme'),\n",
      "   (0.01603536, 'like'),\n",
      "   (0.014802826, 'know'),\n",
      "   (0.013567515, 'man'),\n",
      "   (0.01209855, 'never'),\n",
      "   (0.011590921, 'u'),\n",
      "   (0.011549276, 'tell'),\n",
      "   (0.011295541, 'hatter'),\n",
      "   (0.010984561, 'replied'),\n",
      "   (0.010592795, 'right')],\n",
      "  -3.3191702070085105),\n",
      " ([(0.026711166, 'thing'),\n",
      "   (0.024705948, 'letter'),\n",
      "   (0.024435496, 'every'),\n",
      "   (0.019425748, 'well'),\n",
      "   (0.018054182, 'good'),\n",
      "   (0.017702732, 'fire'),\n",
      "   (0.01741727, 'could'),\n",
      "   (0.016495775, 'come'),\n",
      "   (0.015936447, 'harriet'),\n",
      "   (0.014202932, 'power'),\n",
      "   (0.013317852, 'hope'),\n",
      "   (0.012610595, 'frank'),\n",
      "   (0.012560998, 'spirit'),\n",
      "   (0.012519876, 'soon'),\n",
      "   (0.012418568, 'ever'),\n",
      "   (0.01212749, 'mind'),\n",
      "   (0.01178716, 'day'),\n",
      "   (0.01162845, 'stone'),\n",
      "   (0.011381106, 'strong'),\n",
      "   (0.01121064, 'heart')],\n",
      "  -4.349020249481139),\n",
      " ([(0.12315854, 'thou'),\n",
      "   (0.040909503, 'hast'),\n",
      "   (0.030557415, 'thee'),\n",
      "   (0.02826589, 'thou_hast'),\n",
      "   (0.027889486, 'take'),\n",
      "   (0.025266366, 'shalt'),\n",
      "   (0.021595553, 'sword'),\n",
      "   (0.021303058, 'thou_shalt'),\n",
      "   (0.02129481, 'dead'),\n",
      "   (0.019039702, 'fell'),\n",
      "   (0.018500827, 'thine'),\n",
      "   (0.01816884, 'mine'),\n",
      "   (0.017058054, 'thy'),\n",
      "   (0.016944388, 'reason'),\n",
      "   (0.015382208, 'still'),\n",
      "   (0.014334363, 'shall'),\n",
      "   (0.012978212, 'enemy'),\n",
      "   (0.012598817, 'see'),\n",
      "   (0.011944058, 'face'),\n",
      "   (0.011192637, 'strong')],\n",
      "  -4.562661926816558)]\n"
     ]
    }
   ],
   "source": [
    "\n",
    "\n",
    "from nltk.tokenize import RegexpTokenizer\n",
    "df_req = df[\"Cleaned\"]\n",
    "# Split the documents into tokens.\n",
    "tokenizer = RegexpTokenizer(r'\\w+')\n",
    "for idx in range(len(df_req)):\n",
    "    df_req[idx] = df_req[idx].lower()  # Convert to lowercase.\n",
    "    df_req[idx] = tokenizer.tokenize(df_req[idx])  # Split into words.\n",
    "\n",
    "    \n",
    "# Remove numbers, but not words that contain numbers.\n",
    "df_req = [[token for token in doc if not token.isnumeric()] for doc in df_req]\n",
    "\n",
    "# Remove words that are only one character.\n",
    "df_req = [[token for token in doc if len(token) > 1] for doc in df_req]\n",
    "\n",
    "from nltk.stem.wordnet import WordNetLemmatizer\n",
    "\n",
    "lemmatizer = WordNetLemmatizer()\n",
    "df_req = [[lemmatizer.lemmatize(token) for token in doc] for doc in df_req]\n",
    "\n",
    "# Compute bigrams.\n",
    "from gensim.models import Phrases\n",
    "\n",
    "# Add bigrams and trigrams to docs (only ones that appear 20 times or more).\n",
    "bigram = Phrases(df_req, min_count=20)\n",
    "for idx in range(len(df_req)):\n",
    "    for token in bigram[df_req[idx]]:\n",
    "        if '_' in token:\n",
    "            # Token is a bigram, add to document.\n",
    "            df_req[idx].append(token)\n",
    "            \n",
    "from gensim.corpora import Dictionary\n",
    "\n",
    "# Create a dictionary representation of the documents.\n",
    "dictionary = Dictionary(df_req)\n",
    "\n",
    "# Filter out words that occur less than 20 documents, or more than 50% of the documents.\n",
    "dictionary.filter_extremes(no_below=20, no_above=0.5)\n",
    "\n",
    "\n",
    "# Bag-of-words representation of the documents.\n",
    "corpus = [dictionary.doc2bow(doc) for doc in df_req]\n",
    "\n",
    "\n",
    "print('Number of unique tokens: %d' % len(dictionary))\n",
    "print('Number of documents: %d' % len(corpus))\n",
    "\n",
    "# Train LDA model.\n",
    "from gensim.models import LdaModel\n",
    "\n",
    "# Set training parameters.\n",
    "num_topics = 10\n",
    "chunksize = 2000\n",
    "passes = 20\n",
    "iterations = 400\n",
    "eval_every = None  # Don't evaluate model perplexity, takes too much time.\n",
    "\n",
    "# Make a index to word dictionary.\n",
    "temp = dictionary[0]  # This is only to \"load\" the dictionary.\n",
    "id2word = dictionary.id2token\n",
    "\n",
    "model = LdaModel(\n",
    "    corpus=corpus,\n",
    "    id2word=id2word,\n",
    "    chunksize=chunksize,\n",
    "    alpha='auto',\n",
    "    eta='auto',\n",
    "    iterations=iterations,\n",
    "    num_topics=num_topics,\n",
    "    passes=passes,\n",
    "    eval_every=eval_every\n",
    ")\n",
    "\n",
    "\n",
    "top_topics = model.top_topics(corpus) #, num_words=20)\n",
    "\n",
    "# Average topic coherence is the sum of topic coherences of all topics, divided by the number of topics.\n",
    "avg_topic_coherence = sum([t[1] for t in top_topics]) / num_topics\n",
    "print('Average topic coherence: %.4f.' % avg_topic_coherence)\n",
    "\n",
    "from pprint import pprint\n",
    "pprint(top_topics)"
   ]
  },
  {
   "cell_type": "markdown",
   "metadata": {
    "id": "M_cX3sSaHpmY"
   },
   "source": [
    "## 4. Machine Learning Model Experimentation\n",
    "### 4.1 Fitting models with only Bag-of-Words"
   ]
  },
  {
   "cell_type": "code",
   "execution_count": 8,
   "metadata": {
    "id": "QK6r6ECMIC75"
   },
   "outputs": [],
   "source": [
    "# Split the data into train and test\n",
    "X_train, X_test, y_train, y_test = train_test_split(df['Data'], df['Target'], test_size=0.2, random_state=42)"
   ]
  },
  {
   "cell_type": "code",
   "execution_count": 9,
   "metadata": {
    "colab": {
     "base_uri": "https://localhost:8080/",
     "height": 142
    },
    "id": "t7kQ_5G6IFtc",
    "outputId": "86d2ccba-6bdd-4b8e-bffc-48a9711e4df5"
   },
   "outputs": [
    {
     "data": {
      "text/html": [
       "<div>\n",
       "<style scoped>\n",
       "    .dataframe tbody tr th:only-of-type {\n",
       "        vertical-align: middle;\n",
       "    }\n",
       "\n",
       "    .dataframe tbody tr th {\n",
       "        vertical-align: top;\n",
       "    }\n",
       "\n",
       "    .dataframe thead th {\n",
       "        text-align: right;\n",
       "    }\n",
       "</style>\n",
       "<table border=\"1\" class=\"dataframe\">\n",
       "  <thead>\n",
       "    <tr style=\"text-align: right;\">\n",
       "      <th></th>\n",
       "      <th>Accuracy</th>\n",
       "    </tr>\n",
       "  </thead>\n",
       "  <tbody>\n",
       "    <tr>\n",
       "      <th>RandomForestClassifier</th>\n",
       "      <td>0.935</td>\n",
       "    </tr>\n",
       "    <tr>\n",
       "      <th>SupportVectorMachines</th>\n",
       "      <td>0.825</td>\n",
       "    </tr>\n",
       "    <tr>\n",
       "      <th>KNearestNeighbor</th>\n",
       "      <td>0.560</td>\n",
       "    </tr>\n",
       "  </tbody>\n",
       "</table>\n",
       "</div>"
      ],
      "text/plain": [
       "                        Accuracy\n",
       "RandomForestClassifier     0.935\n",
       "SupportVectorMachines      0.825\n",
       "KNearestNeighbor           0.560"
      ]
     },
     "execution_count": 9,
     "metadata": {},
     "output_type": "execute_result"
    }
   ],
   "source": [
    "models = {\"RandomForestClassifier\" : RandomForestClassifier(),\n",
    "          \"SupportVectorMachines\" : SVC(),\n",
    "          \"KNearestNeighbor\" : KNeighborsClassifier()\n",
    "          }\n",
    "\n",
    "def fit_and_score_bow(models, X_train, y_train, X_test, y_test):\n",
    "    '''\n",
    "    Fits and evaluates the machine learning models with only BOW in pipeline.\n",
    "    models : a dict of different Scikit-Learn machine learning models.\n",
    "    X_train : training data (no labels)\n",
    "    y_train : training lables\n",
    "    X_test : testing data (no labels)\n",
    "    y_test : testing lables\n",
    "    Returns Model Scores and Predictions as Dictionary\n",
    "    '''\n",
    "    model_scores = {}\n",
    "    predictions = {}\n",
    "    for name, model in models.items():\n",
    "      pipeline_bow = Pipeline([('bow', CountVectorizer(analyzer=text_process)), # Bag of Words\n",
    "                               ('model', model)])                               # Fit the model\n",
    "      pipeline_bow.fit(X_train, y_train)\n",
    "      predictions[name] = pipeline_bow.predict(X_test) \n",
    "      model_scores[name] = cross_val_score(pipeline_bow, X_test, y_test, cv=10, scoring=\"accuracy\") # 10-Fold Cross-Validation\n",
    "    return model_scores, predictions\n",
    "\n",
    "# Storing the scores and predictions\n",
    "model_scores_bow, predictions_bow = fit_and_score_bow(models=models,\n",
    "                             X_train=X_train,\n",
    "                             y_train=y_train,\n",
    "                             X_test=X_test,\n",
    "                             y_test=y_test)\n",
    "\n",
    "# Taking the average of the K-Fold Cross-Validated Scores\n",
    "model_scores_bow_avg = {}\n",
    "for name, model in model_scores_bow.items():\n",
    "  model_scores_bow_avg[name] = np.mean(model)\n",
    "\n",
    "# Converting it into a dataframe\n",
    "model_scores_bow_avg_df = pd.DataFrame(model_scores_bow_avg, index=[\"Accuracy\"]).T\n",
    "model_scores_bow_avg_df "
   ]
  },
  {
   "cell_type": "markdown",
   "metadata": {
    "id": "G0fOBMKGIdX5"
   },
   "source": [
    "### 4.2 Fitting models with Bag-of-Words and TF-IDF"
   ]
  },
  {
   "cell_type": "code",
   "execution_count": 10,
   "metadata": {
    "colab": {
     "base_uri": "https://localhost:8080/",
     "height": 142
    },
    "id": "LyGn_sWtI4wy",
    "outputId": "e8f68233-bf00-458a-b54d-3ae806f51870"
   },
   "outputs": [
    {
     "data": {
      "text/html": [
       "<div>\n",
       "<style scoped>\n",
       "    .dataframe tbody tr th:only-of-type {\n",
       "        vertical-align: middle;\n",
       "    }\n",
       "\n",
       "    .dataframe tbody tr th {\n",
       "        vertical-align: top;\n",
       "    }\n",
       "\n",
       "    .dataframe thead th {\n",
       "        text-align: right;\n",
       "    }\n",
       "</style>\n",
       "<table border=\"1\" class=\"dataframe\">\n",
       "  <thead>\n",
       "    <tr style=\"text-align: right;\">\n",
       "      <th></th>\n",
       "      <th>Accuracy</th>\n",
       "    </tr>\n",
       "  </thead>\n",
       "  <tbody>\n",
       "    <tr>\n",
       "      <th>RandomForestClassifier</th>\n",
       "      <td>0.915</td>\n",
       "    </tr>\n",
       "    <tr>\n",
       "      <th>SupportVectorMachines</th>\n",
       "      <td>0.960</td>\n",
       "    </tr>\n",
       "    <tr>\n",
       "      <th>KNearestNeighbor</th>\n",
       "      <td>0.940</td>\n",
       "    </tr>\n",
       "  </tbody>\n",
       "</table>\n",
       "</div>"
      ],
      "text/plain": [
       "                        Accuracy\n",
       "RandomForestClassifier     0.915\n",
       "SupportVectorMachines      0.960\n",
       "KNearestNeighbor           0.940"
      ]
     },
     "execution_count": 10,
     "metadata": {},
     "output_type": "execute_result"
    }
   ],
   "source": [
    "def fit_and_score_bow_tdif(models, X_train, y_train, X_test, y_test):\n",
    "    '''\n",
    "    Fits and evaluates the machine learning models with BOW and TF-IDF in pipeline.\n",
    "    models : a dict of different Scikit-Learn machine learning models.\n",
    "    X_train : training data (no labels)\n",
    "    y_train : training lables\n",
    "    X_test : testing data (no labels)\n",
    "    y_test : testing lables\n",
    "    Returns Model Scores and Predictions as Dictionary\n",
    "    '''\n",
    "    model_scores = {}\n",
    "    predictions = {}\n",
    "    for name, model in models.items():\n",
    "      pipeline_bow_tdif = Pipeline([('bow', CountVectorizer(analyzer=text_process)), # Bag of Words\n",
    "                                    ('tfidf', TfidfTransformer()), # TF-IDF\n",
    "                                    ('model', model)]) # Fit the model\n",
    "      pipeline_bow_tdif.fit(X_train, y_train)\n",
    "      predictions[name] = pipeline_bow_tdif.predict(X_test) \n",
    "      model_scores[name] = cross_val_score(pipeline_bow_tdif, X_test, y_test, cv=10, scoring=\"accuracy\") # 10-Fold Cross-Validation\n",
    "    return model_scores, predictions\n",
    "\n",
    "# Storing the scores and predictions\n",
    "model_scores_bow_tdif, predictions_bow_tdif = fit_and_score_bow_tdif(models=models,\n",
    "                             X_train=X_train,\n",
    "                             y_train=y_train,\n",
    "                             X_test=X_test,\n",
    "                             y_test=y_test)\n",
    "\n",
    "# Taking the average of the K-Fold Cross-Validated Scores\n",
    "model_scores_bow_tdif_avg = {}\n",
    "for name, model in model_scores_bow_tdif.items():\n",
    "  model_scores_bow_tdif_avg[name] = np.mean(model)\n",
    "\n",
    "# Converting it into a dataframe\n",
    "model_scores_bow_tdif_avg_df = pd.DataFrame(model_scores_bow_tdif_avg, index=[\"Accuracy\"]).T\n",
    "model_scores_bow_tdif_avg_df"
   ]
  },
  {
   "cell_type": "markdown",
   "metadata": {
    "id": "q5uDOoFWSVkr"
   },
   "source": [
    "### 4.3 Fitting models without removing StopWords and Punctuations"
   ]
  },
  {
   "cell_type": "code",
   "execution_count": 11,
   "metadata": {
    "colab": {
     "base_uri": "https://localhost:8080/",
     "height": 142
    },
    "id": "BUEicQ6nSiLR",
    "outputId": "b11ccbac-b32a-4415-8ba3-639e0ba3b900"
   },
   "outputs": [
    {
     "data": {
      "text/html": [
       "<div>\n",
       "<style scoped>\n",
       "    .dataframe tbody tr th:only-of-type {\n",
       "        vertical-align: middle;\n",
       "    }\n",
       "\n",
       "    .dataframe tbody tr th {\n",
       "        vertical-align: top;\n",
       "    }\n",
       "\n",
       "    .dataframe thead th {\n",
       "        text-align: right;\n",
       "    }\n",
       "</style>\n",
       "<table border=\"1\" class=\"dataframe\">\n",
       "  <thead>\n",
       "    <tr style=\"text-align: right;\">\n",
       "      <th></th>\n",
       "      <th>Accuracy</th>\n",
       "    </tr>\n",
       "  </thead>\n",
       "  <tbody>\n",
       "    <tr>\n",
       "      <th>RandomForestClassifier</th>\n",
       "      <td>0.925</td>\n",
       "    </tr>\n",
       "    <tr>\n",
       "      <th>SupportVectorMachines</th>\n",
       "      <td>0.915</td>\n",
       "    </tr>\n",
       "    <tr>\n",
       "      <th>KNearestNeighbor</th>\n",
       "      <td>0.760</td>\n",
       "    </tr>\n",
       "  </tbody>\n",
       "</table>\n",
       "</div>"
      ],
      "text/plain": [
       "                        Accuracy\n",
       "RandomForestClassifier     0.925\n",
       "SupportVectorMachines      0.915\n",
       "KNearestNeighbor           0.760"
      ]
     },
     "execution_count": 11,
     "metadata": {},
     "output_type": "execute_result"
    }
   ],
   "source": [
    "def fit_and_score_no(models, X_train, y_train, X_test, y_test):\n",
    "    '''\n",
    "    Fits and evaluates the machine learning models without removing stopwords and punctuations.\n",
    "    models : a dict of different Scikit-Learn machine learning models.\n",
    "    X_train : training data (no labels)\n",
    "    y_train : training lables\n",
    "    X_test : testing data (no labels)\n",
    "    y_test : testing lables\n",
    "    Returns Model Scores and Predictions as Dictionary\n",
    "    '''\n",
    "    model_scores = {}\n",
    "    predictions = {}\n",
    "    for name, model in models.items():\n",
    "      pipeline_bow_no = Pipeline([('bow', CountVectorizer()), # Bag of Words\n",
    "                                    ('model', model)]) # Fit the model\n",
    "      pipeline_bow_no.fit(X_train, y_train)\n",
    "      predictions[name] = pipeline_bow_no.predict(X_test) \n",
    "      model_scores[name] = cross_val_score(pipeline_bow_no, X_test, y_test, cv=10, scoring=\"accuracy\") # 10-Fold Cross-Validation\n",
    "    return model_scores, predictions\n",
    "\n",
    "# Storing the scores and predictions\n",
    "model_scores_no, predictions_no = fit_and_score_no(models=models,\n",
    "                             X_train=X_train,\n",
    "                             y_train=y_train,\n",
    "                             X_test=X_test,\n",
    "                             y_test=y_test)\n",
    "\n",
    "# Taking the average of the K-Fold Cross-Validated Scores\n",
    "model_scores_no_avg = {}\n",
    "for name, model in model_scores_no.items():\n",
    "  model_scores_no_avg[name] = np.mean(model)\n",
    "\n",
    "# Converting it into a dataframe\n",
    "model_scores_no_avg_df = pd.DataFrame(model_scores_no_avg, index=[\"Accuracy\"]).T\n",
    "model_scores_no_avg_df"
   ]
  },
  {
   "cell_type": "markdown",
   "metadata": {
    "id": "TvpwZKasTxgY"
   },
   "source": [
    "### 4.4 Fitting models with a dataset containing lesser number of words"
   ]
  },
  {
   "cell_type": "code",
   "execution_count": 12,
   "metadata": {
    "colab": {
     "base_uri": "https://localhost:8080/",
     "height": 142
    },
    "id": "40Cz4hQDT_wt",
    "outputId": "6c018ff2-1d1a-47c2-9f2e-8fd0117a1a54"
   },
   "outputs": [
    {
     "data": {
      "text/html": [
       "<div>\n",
       "<style scoped>\n",
       "    .dataframe tbody tr th:only-of-type {\n",
       "        vertical-align: middle;\n",
       "    }\n",
       "\n",
       "    .dataframe tbody tr th {\n",
       "        vertical-align: top;\n",
       "    }\n",
       "\n",
       "    .dataframe thead th {\n",
       "        text-align: right;\n",
       "    }\n",
       "</style>\n",
       "<table border=\"1\" class=\"dataframe\">\n",
       "  <thead>\n",
       "    <tr style=\"text-align: right;\">\n",
       "      <th></th>\n",
       "      <th>Accuracy</th>\n",
       "    </tr>\n",
       "  </thead>\n",
       "  <tbody>\n",
       "    <tr>\n",
       "      <th>RandomForestClassifier</th>\n",
       "      <td>0.7175</td>\n",
       "    </tr>\n",
       "    <tr>\n",
       "      <th>SupportVectorMachines</th>\n",
       "      <td>0.6200</td>\n",
       "    </tr>\n",
       "    <tr>\n",
       "      <th>KNearestNeighbor</th>\n",
       "      <td>0.4725</td>\n",
       "    </tr>\n",
       "  </tbody>\n",
       "</table>\n",
       "</div>"
      ],
      "text/plain": [
       "                        Accuracy\n",
       "RandomForestClassifier    0.7175\n",
       "SupportVectorMachines     0.6200\n",
       "KNearestNeighbor          0.4725"
      ]
     },
     "execution_count": 12,
     "metadata": {},
     "output_type": "execute_result"
    }
   ],
   "source": [
    "# Splitting the data into train and test\n",
    "X_train_, X_test_, y_train_, y_test_ = train_test_split(df_new[\"Data\"], df_new[\"Target\"], test_size=0.2)\n",
    "\n",
    "def fit_and_score_less(models, X_train, y_train, X_test, y_test):\n",
    "    '''\n",
    "    Fits and evaluates the machine learning models with lesser words.\n",
    "    models : a dict of different Scikit-Learn machine learning models.\n",
    "    X_train : training data (no labels)\n",
    "    y_train : training lables\n",
    "    X_test : testing data (no labels)\n",
    "    y_test : testing lables\n",
    "    Returns Model Scores and Predictions as Dictionary\n",
    "    '''\n",
    "    model_scores = {}\n",
    "    predictions = {}\n",
    "    for name, model in models.items():\n",
    "      pipeline_bow_less = Pipeline([('bow', CountVectorizer(analyzer=text_process)), # Bag of Words\n",
    "                                    ('model', model)]) # Fit the model\n",
    "      pipeline_bow_less.fit(X_train, y_train)\n",
    "      predictions[name] = pipeline_bow_less.predict(X_test) \n",
    "      model_scores[name] = cross_val_score(pipeline_bow_less, X_test, y_test, cv=10, scoring=\"accuracy\") # 10-Fold Cross-Validation\n",
    "    return model_scores, predictions\n",
    "\n",
    "# Storing the scores and predictions\n",
    "model_scores_less, predictions_less = fit_and_score_less(models=models,\n",
    "                             X_train=X_train_,\n",
    "                             y_train=y_train_,\n",
    "                             X_test=X_test_,\n",
    "                             y_test=y_test_)\n",
    "\n",
    "# Taking the average of the K-Fold Cross-Validated Scores\n",
    "model_scores_less_avg = {}\n",
    "for name, model in model_scores_less.items():\n",
    "  model_scores_less_avg[name] = np.mean(model)\n",
    "\n",
    "# Converting it into a dataframe\n",
    "model_scores_less_avg_df = pd.DataFrame(model_scores_less_avg, index=[\"Accuracy\"]).T\n",
    "model_scores_less_avg_df"
   ]
  },
  {
   "cell_type": "markdown",
   "metadata": {
    "id": "San5dKCUJgw6"
   },
   "source": [
    "## 5. Model Evaluations"
   ]
  },
  {
   "cell_type": "markdown",
   "metadata": {
    "id": "QkfEfw_BJnbz"
   },
   "source": [
    "### 5.1 Models fitted with only BOW"
   ]
  },
  {
   "cell_type": "code",
   "execution_count": 13,
   "metadata": {
    "colab": {
     "base_uri": "https://localhost:8080/",
     "height": 406
    },
    "id": "gVphGV72Qmtg",
    "outputId": "e61fc63b-4783-426a-f36b-e6599f0f5046"
   },
   "outputs": [
    {
     "data": {
      "text/plain": [
       "Text(0.5, 1.0, 'Model Accuracy with only BOW')"
      ]
     },
     "execution_count": 13,
     "metadata": {},
     "output_type": "execute_result"
    },
    {
     "data": {
      "image/png": "[encoded data removed]",
      "text/plain": [
       "<Figure size 432x288 with 1 Axes>"
      ]
     },
     "metadata": {
      "needs_background": "light"
     },
     "output_type": "display_data"
    }
   ],
   "source": [
    "# Bar Graph of Accuracies\n",
    "fig1 = model_scores_bow_avg_df.plot(kind='bar')\n",
    "fig1.set_title(\"Model Accuracy with only BOW\")"
   ]
  },
  {
   "cell_type": "markdown",
   "metadata": {
    "id": "Z2CSBhIgQt2S"
   },
   "source": [
    "Classifications Reports"
   ]
  },
  {
   "cell_type": "code",
   "execution_count": 14,
   "metadata": {
    "colab": {
     "base_uri": "https://localhost:8080/"
    },
    "id": "j5nhCQ6IQ4NN",
    "outputId": "500ceb4a-0a41-4329-f29b-7a2df7bfbbd9"
   },
   "outputs": [
    {
     "name": "stdout",
     "output_type": "stream",
     "text": [
      "              precision    recall  f1-score   support\n",
      "\n",
      "           A       1.00      0.97      0.98        33\n",
      "           B       1.00      0.96      0.98        48\n",
      "           C       0.95      1.00      0.97        37\n",
      "           D       0.93      0.97      0.95        38\n",
      "           E       1.00      0.98      0.99        44\n",
      "\n",
      "    accuracy                           0.97       200\n",
      "   macro avg       0.97      0.98      0.97       200\n",
      "weighted avg       0.98      0.97      0.98       200\n",
      "\n"
     ]
    }
   ],
   "source": [
    "# Classification Report BOW RFC\n",
    "print(classification_report(y_test, predictions_bow[\"RandomForestClassifier\"]))"
   ]
  },
  {
   "cell_type": "code",
   "execution_count": 15,
   "metadata": {
    "colab": {
     "base_uri": "https://localhost:8080/"
    },
    "id": "-sRpfISCQ5GG",
    "outputId": "31152611-195b-4107-ac7f-21e0a762d5b0"
   },
   "outputs": [
    {
     "name": "stdout",
     "output_type": "stream",
     "text": [
      "              precision    recall  f1-score   support\n",
      "\n",
      "           A       0.87      1.00      0.93        33\n",
      "           B       1.00      0.94      0.97        48\n",
      "           C       1.00      0.89      0.94        37\n",
      "           D       0.86      0.95      0.90        38\n",
      "           E       1.00      0.95      0.98        44\n",
      "\n",
      "    accuracy                           0.94       200\n",
      "   macro avg       0.95      0.95      0.94       200\n",
      "weighted avg       0.95      0.94      0.95       200\n",
      "\n"
     ]
    }
   ],
   "source": [
    "# Classification Report BOW SVC\n",
    "print(classification_report(y_test, predictions_bow[\"SupportVectorMachines\"]))"
   ]
  },
  {
   "cell_type": "code",
   "execution_count": 16,
   "metadata": {
    "colab": {
     "base_uri": "https://localhost:8080/"
    },
    "id": "ekPa14IVQ-JA",
    "outputId": "3580935b-a44d-44dc-ddc7-99c488e4346c"
   },
   "outputs": [
    {
     "name": "stdout",
     "output_type": "stream",
     "text": [
      "              precision    recall  f1-score   support\n",
      "\n",
      "           A       0.36      0.97      0.52        33\n",
      "           B       0.97      0.58      0.73        48\n",
      "           C       0.81      0.92      0.86        37\n",
      "           D       1.00      0.24      0.38        38\n",
      "           E       1.00      0.70      0.83        44\n",
      "\n",
      "    accuracy                           0.67       200\n",
      "   macro avg       0.83      0.68      0.66       200\n",
      "weighted avg       0.85      0.67      0.67       200\n",
      "\n"
     ]
    }
   ],
   "source": [
    "# Classification Report BOW KNN\n",
    "print(classification_report(y_test, predictions_bow[\"KNearestNeighbor\"]))"
   ]
  },
  {
   "cell_type": "markdown",
   "metadata": {
    "id": "lhuujPHhQ_L6"
   },
   "source": [
    "Confusion Matrices"
   ]
  },
  {
   "cell_type": "code",
   "execution_count": 17,
   "metadata": {
    "colab": {
     "base_uri": "https://localhost:8080/",
     "height": 282
    },
    "id": "RbVFUhmjRCLu",
    "outputId": "ea01a6c0-0bbd-42de-c277-4d4317a03e9a"
   },
   "outputs": [
    {
     "data": {
      "text/plain": [
       "<matplotlib.axes._subplots.AxesSubplot at 0x148dde4f4f0>"
      ]
     },
     "execution_count": 17,
     "metadata": {},
     "output_type": "execute_result"
    },
    {
     "data": {
      "image/png": "[encoded data removed]",
      "text/plain": [
       "<Figure size 432x288 with 2 Axes>"
      ]
     },
     "metadata": {
      "needs_background": "light"
     },
     "output_type": "display_data"
    }
   ],
   "source": [
    "# Confusion Matrix RandomForestClassifier\n",
    "sns.heatmap(confusion_matrix(y_test, predictions_bow[\"RandomForestClassifier\"]), cmap= \"Blues\", annot=True, fmt='')"
   ]
  },
  {
   "cell_type": "code",
   "execution_count": 18,
   "metadata": {
    "colab": {
     "base_uri": "https://localhost:8080/",
     "height": 282
    },
    "id": "jxlOMWZ9RE4R",
    "outputId": "7ffd7f73-f1da-44f8-e1d0-521060e4d836"
   },
   "outputs": [
    {
     "data": {
      "text/plain": [
       "<matplotlib.axes._subplots.AxesSubplot at 0x148ddee20a0>"
      ]
     },
     "execution_count": 18,
     "metadata": {},
     "output_type": "execute_result"
    },
    {
     "data": {
      "image/png": "[encoded data removed]",
      "text/plain": [
       "<Figure size 432x288 with 2 Axes>"
      ]
     },
     "metadata": {
      "needs_background": "light"
     },
     "output_type": "display_data"
    }
   ],
   "source": [
    "# Confusion Matrix SupportVectorMachines\n",
    "sns.heatmap(confusion_matrix(y_test, predictions_bow[\"SupportVectorMachines\"]), cmap= \"Blues\", annot=True, fmt='')"
   ]
  },
  {
   "cell_type": "code",
   "execution_count": 19,
   "metadata": {
    "colab": {
     "base_uri": "https://localhost:8080/",
     "height": 282
    },
    "id": "Xs_aDqbSRIID",
    "outputId": "81f38660-58fc-4fec-8dee-a7c30a7d4a5e"
   },
   "outputs": [
    {
     "data": {
      "text/plain": [
       "<matplotlib.axes._subplots.AxesSubplot at 0x148ddf5f5b0>"
      ]
     },
     "execution_count": 19,
     "metadata": {},
     "output_type": "execute_result"
    },
    {
     "data": {
      "image/png": "[encoded data removed]",
      "text/plain": [
       "<Figure size 432x288 with 2 Axes>"
      ]
     },
     "metadata": {
      "needs_background": "light"
     },
     "output_type": "display_data"
    }
   ],
   "source": [
    "# Confusion Matrix KNearestNeighbor\n",
    "sns.heatmap(confusion_matrix(y_test, predictions_bow[\"KNearestNeighbor\"]), cmap= \"Blues\", annot=True, fmt='')"
   ]
  },
  {
   "cell_type": "markdown",
   "metadata": {
    "id": "Ql_sbc3ZRRqX"
   },
   "source": [
    "### 5.2 Models Fitted with BOW + TF-IDF"
   ]
  },
  {
   "cell_type": "code",
   "execution_count": 20,
   "metadata": {
    "colab": {
     "base_uri": "https://localhost:8080/",
     "height": 406
    },
    "id": "C-c7a3-uRXjz",
    "outputId": "e806f68e-ab7a-486c-ce8a-1a5ed96c1614"
   },
   "outputs": [
    {
     "data": {
      "text/plain": [
       "Text(0.5, 1.0, 'Model Accuracy with only BOW + TF-IDF')"
      ]
     },
     "execution_count": 20,
     "metadata": {},
     "output_type": "execute_result"
    },
    {
     "data": {
      "image/png": "[encoded data removed]",
      "text/plain": [
       "<Figure size 432x288 with 1 Axes>"
      ]
     },
     "metadata": {
      "needs_background": "light"
     },
     "output_type": "display_data"
    }
   ],
   "source": [
    "fig2 = model_scores_bow_tdif_avg_df.plot(kind='bar')\n",
    "fig2.set_title(\"Model Accuracy with only BOW + TF-IDF\")"
   ]
  },
  {
   "cell_type": "markdown",
   "metadata": {
    "id": "9IBNDMaLRZmS"
   },
   "source": [
    "Classification Reports"
   ]
  },
  {
   "cell_type": "code",
   "execution_count": 21,
   "metadata": {
    "colab": {
     "base_uri": "https://localhost:8080/"
    },
    "id": "dmBYzrhJRcS-",
    "outputId": "aa6a42ca-e8c2-445d-822d-c6e6df899200"
   },
   "outputs": [
    {
     "name": "stdout",
     "output_type": "stream",
     "text": [
      "              precision    recall  f1-score   support\n",
      "\n",
      "           A       0.94      0.97      0.96        33\n",
      "           B       1.00      0.98      0.99        48\n",
      "           C       0.95      0.97      0.96        37\n",
      "           D       0.95      0.92      0.93        38\n",
      "           E       1.00      1.00      1.00        44\n",
      "\n",
      "    accuracy                           0.97       200\n",
      "   macro avg       0.97      0.97      0.97       200\n",
      "weighted avg       0.97      0.97      0.97       200\n",
      "\n"
     ]
    }
   ],
   "source": [
    "# Classification Report BOW + TFIDF RFC\n",
    "print(classification_report(y_test, predictions_bow_tdif[\"RandomForestClassifier\"]))"
   ]
  },
  {
   "cell_type": "code",
   "execution_count": 22,
   "metadata": {
    "colab": {
     "base_uri": "https://localhost:8080/"
    },
    "id": "23pFJ-XbRd8c",
    "outputId": "623ad7d6-2cf6-40f7-9808-0d1a3abd6191"
   },
   "outputs": [
    {
     "name": "stdout",
     "output_type": "stream",
     "text": [
      "              precision    recall  f1-score   support\n",
      "\n",
      "           A       0.97      1.00      0.99        33\n",
      "           B       1.00      0.96      0.98        48\n",
      "           C       1.00      0.92      0.96        37\n",
      "           D       0.88      0.97      0.93        38\n",
      "           E       1.00      1.00      1.00        44\n",
      "\n",
      "    accuracy                           0.97       200\n",
      "   macro avg       0.97      0.97      0.97       200\n",
      "weighted avg       0.97      0.97      0.97       200\n",
      "\n"
     ]
    }
   ],
   "source": [
    "# Classification Report BOW +TFIDF SVM\n",
    "print(classification_report(y_test, predictions_bow_tdif[\"SupportVectorMachines\"]))"
   ]
  },
  {
   "cell_type": "code",
   "execution_count": 23,
   "metadata": {
    "colab": {
     "base_uri": "https://localhost:8080/"
    },
    "id": "teh18Md2RgAd",
    "outputId": "1bf5f436-8b18-4b77-8156-b3193d313c23"
   },
   "outputs": [
    {
     "name": "stdout",
     "output_type": "stream",
     "text": [
      "              precision    recall  f1-score   support\n",
      "\n",
      "           A       0.97      1.00      0.99        33\n",
      "           B       0.98      1.00      0.99        48\n",
      "           C       0.95      0.97      0.96        37\n",
      "           D       1.00      0.95      0.97        38\n",
      "           E       1.00      0.98      0.99        44\n",
      "\n",
      "    accuracy                           0.98       200\n",
      "   macro avg       0.98      0.98      0.98       200\n",
      "weighted avg       0.98      0.98      0.98       200\n",
      "\n"
     ]
    }
   ],
   "source": [
    "# Classification Report BOW + TFIDF KNN\n",
    "print(classification_report(y_test, predictions_bow_tdif[\"KNearestNeighbor\"]))"
   ]
  },
  {
   "cell_type": "markdown",
   "metadata": {
    "id": "vLi6e6qJRh2D"
   },
   "source": [
    "Confusion Matrices"
   ]
  },
  {
   "cell_type": "code",
   "execution_count": 24,
   "metadata": {
    "colab": {
     "base_uri": "https://localhost:8080/",
     "height": 282
    },
    "id": "5Iwqs6pURjyB",
    "outputId": "19374f44-2433-40b0-cf72-b50a4c8aea45"
   },
   "outputs": [
    {
     "data": {
      "text/plain": [
       "<matplotlib.axes._subplots.AxesSubplot at 0x148de00ca00>"
      ]
     },
     "execution_count": 24,
     "metadata": {},
     "output_type": "execute_result"
    },
    {
     "data": {
      "image/png": "[encoded data removed]",
      "text/plain": [
       "<Figure size 432x288 with 2 Axes>"
      ]
     },
     "metadata": {
      "needs_background": "light"
     },
     "output_type": "display_data"
    }
   ],
   "source": [
    "# Confusion Matrix BOW + TFIDF RFC\n",
    "sns.heatmap(confusion_matrix(y_test, predictions_bow_tdif[\"RandomForestClassifier\"]), cmap= \"Blues\", annot=True, fmt='')"
   ]
  },
  {
   "cell_type": "code",
   "execution_count": 25,
   "metadata": {
    "colab": {
     "base_uri": "https://localhost:8080/",
     "height": 282
    },
    "id": "_HeoT7CHRrUr",
    "outputId": "1cb4e6a1-1aa4-4209-eecb-84c68a9fd8f9"
   },
   "outputs": [
    {
     "data": {
      "text/plain": [
       "<matplotlib.axes._subplots.AxesSubplot at 0x148de0b3f70>"
      ]
     },
     "execution_count": 25,
     "metadata": {},
     "output_type": "execute_result"
    },
    {
     "data": {
      "image/png": "[encoded data removed]",
      "text/plain": [
       "<Figure size 432x288 with 2 Axes>"
      ]
     },
     "metadata": {
      "needs_background": "light"
     },
     "output_type": "display_data"
    }
   ],
   "source": [
    "# Confusion Matrix SVM\n",
    "sns.heatmap(confusion_matrix(y_test, predictions_bow_tdif[\"SupportVectorMachines\"]), cmap= \"Blues\", annot=True, fmt='')"
   ]
  },
  {
   "cell_type": "code",
   "execution_count": 26,
   "metadata": {
    "colab": {
     "base_uri": "https://localhost:8080/",
     "height": 282
    },
    "id": "YAGQ1hm8Ruvp",
    "outputId": "6946e666-5d3c-4cfa-93dc-7e879e57ae2b"
   },
   "outputs": [
    {
     "data": {
      "text/plain": [
       "<matplotlib.axes._subplots.AxesSubplot at 0x148de160d60>"
      ]
     },
     "execution_count": 26,
     "metadata": {},
     "output_type": "execute_result"
    },
    {
     "data": {
      "image/png": "[encoded data removed]",
      "text/plain": [
       "<Figure size 432x288 with 2 Axes>"
      ]
     },
     "metadata": {
      "needs_background": "light"
     },
     "output_type": "display_data"
    }
   ],
   "source": [
    "# Confusion Matrix KNearestNeighbor\n",
    "sns.heatmap(confusion_matrix(y_test, predictions_bow_tdif[\"KNearestNeighbor\"]), cmap= \"Blues\", annot=True, fmt='')"
   ]
  },
  {
   "cell_type": "markdown",
   "metadata": {
    "id": "KbN69ms8R_BQ"
   },
   "source": []
  },
  {
   "cell_type": "markdown",
   "metadata": {},
   "source": [
    "### 5.3 Models Fitted without removing StopWords and Punctuations"
   ]
  },
  {
   "cell_type": "code",
   "execution_count": 27,
   "metadata": {},
   "outputs": [
    {
     "data": {
      "text/plain": [
       "Text(0.5, 1.0, 'Model Accuracy without removing StopWords and Punctuations')"
      ]
     },
     "execution_count": 27,
     "metadata": {},
     "output_type": "execute_result"
    },
    {
     "data": {
      "image/png": "[encoded data removed]",
      "text/plain": [
       "<Figure size 432x288 with 1 Axes>"
      ]
     },
     "metadata": {
      "needs_background": "light"
     },
     "output_type": "display_data"
    }
   ],
   "source": [
    "fig3 = model_scores_no_avg_df.plot(kind='bar')\n",
    "fig3.set_title(\"Model Accuracy without removing StopWords and Punctuations\")"
   ]
  },
  {
   "cell_type": "markdown",
   "metadata": {},
   "source": [
    "Classification Reports"
   ]
  },
  {
   "cell_type": "code",
   "execution_count": 28,
   "metadata": {},
   "outputs": [
    {
     "name": "stdout",
     "output_type": "stream",
     "text": [
      "              precision    recall  f1-score   support\n",
      "\n",
      "           A       1.00      0.97      0.98        33\n",
      "           B       1.00      1.00      1.00        48\n",
      "           C       0.97      1.00      0.99        37\n",
      "           D       1.00      1.00      1.00        38\n",
      "           E       1.00      1.00      1.00        44\n",
      "\n",
      "    accuracy                           0.99       200\n",
      "   macro avg       0.99      0.99      0.99       200\n",
      "weighted avg       1.00      0.99      0.99       200\n",
      "\n"
     ]
    }
   ],
   "source": [
    "# Classification Report without removing StopWords and Punctuation RFC\n",
    "print(classification_report(y_test, predictions_no[\"RandomForestClassifier\"]))"
   ]
  },
  {
   "cell_type": "code",
   "execution_count": 29,
   "metadata": {},
   "outputs": [
    {
     "name": "stdout",
     "output_type": "stream",
     "text": [
      "              precision    recall  f1-score   support\n",
      "\n",
      "           A       0.94      0.97      0.96        33\n",
      "           B       0.98      0.98      0.98        48\n",
      "           C       1.00      0.86      0.93        37\n",
      "           D       0.88      1.00      0.94        38\n",
      "           E       1.00      0.98      0.99        44\n",
      "\n",
      "    accuracy                           0.96       200\n",
      "   macro avg       0.96      0.96      0.96       200\n",
      "weighted avg       0.96      0.96      0.96       200\n",
      "\n"
     ]
    }
   ],
   "source": [
    "# Classification Report without removing StopWords and Punctuation SVM\n",
    "print(classification_report(y_test, predictions_no[\"SupportVectorMachines\"]))"
   ]
  },
  {
   "cell_type": "code",
   "execution_count": 30,
   "metadata": {},
   "outputs": [
    {
     "name": "stdout",
     "output_type": "stream",
     "text": [
      "              precision    recall  f1-score   support\n",
      "\n",
      "           A       0.71      0.91      0.80        33\n",
      "           B       1.00      0.67      0.80        48\n",
      "           C       0.94      0.92      0.93        37\n",
      "           D       0.63      0.87      0.73        38\n",
      "           E       0.92      0.80      0.85        44\n",
      "\n",
      "    accuracy                           0.82       200\n",
      "   macro avg       0.84      0.83      0.82       200\n",
      "weighted avg       0.86      0.82      0.82       200\n",
      "\n"
     ]
    }
   ],
   "source": [
    "# Classification Report without removing StopWords and Punctuation KNN\n",
    "print(classification_report(y_test, predictions_no[\"KNearestNeighbor\"]))"
   ]
  },
  {
   "cell_type": "markdown",
   "metadata": {},
   "source": [
    "Confusion Matrices"
   ]
  },
  {
   "cell_type": "code",
   "execution_count": 31,
   "metadata": {},
   "outputs": [
    {
     "data": {
      "text/plain": [
       "<matplotlib.axes._subplots.AxesSubplot at 0x148de1622e0>"
      ]
     },
     "execution_count": 31,
     "metadata": {},
     "output_type": "execute_result"
    },
    {
     "data": {
      "image/png": "[encoded data removed]",
      "text/plain": [
       "<Figure size 432x288 with 2 Axes>"
      ]
     },
     "metadata": {
      "needs_background": "light"
     },
     "output_type": "display_data"
    }
   ],
   "source": [
    "# Confusion Matrix without removing StopWords and Punctuation RFC\n",
    "sns.heatmap(confusion_matrix(y_test, predictions_no[\"RandomForestClassifier\"]), cmap= \"Blues\", annot=True, fmt='')"
   ]
  },
  {
   "cell_type": "code",
   "execution_count": 32,
   "metadata": {},
   "outputs": [
    {
     "data": {
      "text/plain": [
       "<matplotlib.axes._subplots.AxesSubplot at 0x148de31aa30>"
      ]
     },
     "execution_count": 32,
     "metadata": {},
     "output_type": "execute_result"
    },
    {
     "data": {
      "image/png": "[encoded data removed]",
      "text/plain": [
       "<Figure size 432x288 with 2 Axes>"
      ]
     },
     "metadata": {
      "needs_background": "light"
     },
     "output_type": "display_data"
    }
   ],
   "source": [
    "# Confusion Matrix without removing StopWords and Punctuation SVM\n",
    "sns.heatmap(confusion_matrix(y_test, predictions_no[\"SupportVectorMachines\"]), cmap= \"Blues\", annot=True, fmt='')"
   ]
  },
  {
   "cell_type": "code",
   "execution_count": 33,
   "metadata": {},
   "outputs": [
    {
     "data": {
      "text/plain": [
       "<matplotlib.axes._subplots.AxesSubplot at 0x148de3d6df0>"
      ]
     },
     "execution_count": 33,
     "metadata": {},
     "output_type": "execute_result"
    },
    {
     "data": {
      "image/png": "[encoded data removed]",
      "text/plain": [
       "<Figure size 432x288 with 2 Axes>"
      ]
     },
     "metadata": {
      "needs_background": "light"
     },
     "output_type": "display_data"
    }
   ],
   "source": [
    "# Confusion Matrix without removing StopWords and Punctuation KNearestNeighbor\n",
    "sns.heatmap(confusion_matrix(y_test, predictions_no[\"KNearestNeighbor\"]), cmap= \"Blues\", annot=True, fmt='')"
   ]
  },
  {
   "cell_type": "markdown",
   "metadata": {},
   "source": [
    "### 5.4 Models Fitted with a dataset containing lesser number of words"
   ]
  },
  {
   "cell_type": "code",
   "execution_count": 34,
   "metadata": {},
   "outputs": [
    {
     "data": {
      "text/plain": [
       "Text(0.5, 1.0, 'Model Accuracy with a dataset containing lesser number of words')"
      ]
     },
     "execution_count": 34,
     "metadata": {},
     "output_type": "execute_result"
    },
    {
     "data": {
      "image/png": "[encoded data removed]",
      "text/plain": [
       "<Figure size 432x288 with 1 Axes>"
      ]
     },
     "metadata": {
      "needs_background": "light"
     },
     "output_type": "display_data"
    }
   ],
   "source": [
    "fig4 = model_scores_less_avg_df.plot(kind='bar')\n",
    "fig4.set_title(\"Model Accuracy with a dataset containing lesser number of words\")"
   ]
  },
  {
   "cell_type": "markdown",
   "metadata": {},
   "source": [
    "Classification Reports"
   ]
  },
  {
   "cell_type": "code",
   "execution_count": 35,
   "metadata": {},
   "outputs": [
    {
     "ename": "ValueError",
     "evalue": "Found input variables with inconsistent numbers of samples: [200, 400]",
     "output_type": "error",
     "traceback": [
      "\u001B[1;31m---------------------------------------------------------------------------\u001B[0m",
      "\u001B[1;31mValueError\u001B[0m                                Traceback (most recent call last)",
      "\u001B[1;32m<ipython-input-35-e0b036155625>\u001B[0m in \u001B[0;36m<module>\u001B[1;34m\u001B[0m\n\u001B[0;32m      1\u001B[0m \u001B[1;31m# Classification Report with a dataset containing lesser number of words RFC\u001B[0m\u001B[1;33m\u001B[0m\u001B[1;33m\u001B[0m\u001B[1;33m\u001B[0m\u001B[0m\n\u001B[1;32m----> 2\u001B[1;33m \u001B[0mprint\u001B[0m\u001B[1;33m(\u001B[0m\u001B[0mclassification_report\u001B[0m\u001B[1;33m(\u001B[0m\u001B[0my_test\u001B[0m\u001B[1;33m,\u001B[0m \u001B[0mpredictions_less\u001B[0m\u001B[1;33m[\u001B[0m\u001B[1;34m\"RandomForestClassifier\"\u001B[0m\u001B[1;33m]\u001B[0m\u001B[1;33m)\u001B[0m\u001B[1;33m)\u001B[0m\u001B[1;33m\u001B[0m\u001B[1;33m\u001B[0m\u001B[0m\n\u001B[0m",
      "\u001B[1;32mC:\\ProgramData\\Anaconda3\\lib\\site-packages\\sklearn\\utils\\validation.py\u001B[0m in \u001B[0;36minner_f\u001B[1;34m(*args, **kwargs)\u001B[0m\n\u001B[0;32m     71\u001B[0m                           FutureWarning)\n\u001B[0;32m     72\u001B[0m         \u001B[0mkwargs\u001B[0m\u001B[1;33m.\u001B[0m\u001B[0mupdate\u001B[0m\u001B[1;33m(\u001B[0m\u001B[1;33m{\u001B[0m\u001B[0mk\u001B[0m\u001B[1;33m:\u001B[0m \u001B[0marg\u001B[0m \u001B[1;32mfor\u001B[0m \u001B[0mk\u001B[0m\u001B[1;33m,\u001B[0m \u001B[0marg\u001B[0m \u001B[1;32min\u001B[0m \u001B[0mzip\u001B[0m\u001B[1;33m(\u001B[0m\u001B[0msig\u001B[0m\u001B[1;33m.\u001B[0m\u001B[0mparameters\u001B[0m\u001B[1;33m,\u001B[0m \u001B[0margs\u001B[0m\u001B[1;33m)\u001B[0m\u001B[1;33m}\u001B[0m\u001B[1;33m)\u001B[0m\u001B[1;33m\u001B[0m\u001B[1;33m\u001B[0m\u001B[0m\n\u001B[1;32m---> 73\u001B[1;33m         \u001B[1;32mreturn\u001B[0m \u001B[0mf\u001B[0m\u001B[1;33m(\u001B[0m\u001B[1;33m**\u001B[0m\u001B[0mkwargs\u001B[0m\u001B[1;33m)\u001B[0m\u001B[1;33m\u001B[0m\u001B[1;33m\u001B[0m\u001B[0m\n\u001B[0m\u001B[0;32m     74\u001B[0m     \u001B[1;32mreturn\u001B[0m \u001B[0minner_f\u001B[0m\u001B[1;33m\u001B[0m\u001B[1;33m\u001B[0m\u001B[0m\n\u001B[0;32m     75\u001B[0m \u001B[1;33m\u001B[0m\u001B[0m\n",
      "\u001B[1;32mC:\\ProgramData\\Anaconda3\\lib\\site-packages\\sklearn\\metrics\\_classification.py\u001B[0m in \u001B[0;36mclassification_report\u001B[1;34m(y_true, y_pred, labels, target_names, sample_weight, digits, output_dict, zero_division)\u001B[0m\n\u001B[0;32m   1927\u001B[0m     \"\"\"\n\u001B[0;32m   1928\u001B[0m \u001B[1;33m\u001B[0m\u001B[0m\n\u001B[1;32m-> 1929\u001B[1;33m     \u001B[0my_type\u001B[0m\u001B[1;33m,\u001B[0m \u001B[0my_true\u001B[0m\u001B[1;33m,\u001B[0m \u001B[0my_pred\u001B[0m \u001B[1;33m=\u001B[0m \u001B[0m_check_targets\u001B[0m\u001B[1;33m(\u001B[0m\u001B[0my_true\u001B[0m\u001B[1;33m,\u001B[0m \u001B[0my_pred\u001B[0m\u001B[1;33m)\u001B[0m\u001B[1;33m\u001B[0m\u001B[1;33m\u001B[0m\u001B[0m\n\u001B[0m\u001B[0;32m   1930\u001B[0m \u001B[1;33m\u001B[0m\u001B[0m\n\u001B[0;32m   1931\u001B[0m     \u001B[0mlabels_given\u001B[0m \u001B[1;33m=\u001B[0m \u001B[1;32mTrue\u001B[0m\u001B[1;33m\u001B[0m\u001B[1;33m\u001B[0m\u001B[0m\n",
      "\u001B[1;32mC:\\ProgramData\\Anaconda3\\lib\\site-packages\\sklearn\\metrics\\_classification.py\u001B[0m in \u001B[0;36m_check_targets\u001B[1;34m(y_true, y_pred)\u001B[0m\n\u001B[0;32m     79\u001B[0m     \u001B[0my_pred\u001B[0m \u001B[1;33m:\u001B[0m \u001B[0marray\u001B[0m \u001B[1;32mor\u001B[0m \u001B[0mindicator\u001B[0m \u001B[0mmatrix\u001B[0m\u001B[1;33m\u001B[0m\u001B[1;33m\u001B[0m\u001B[0m\n\u001B[0;32m     80\u001B[0m     \"\"\"\n\u001B[1;32m---> 81\u001B[1;33m     \u001B[0mcheck_consistent_length\u001B[0m\u001B[1;33m(\u001B[0m\u001B[0my_true\u001B[0m\u001B[1;33m,\u001B[0m \u001B[0my_pred\u001B[0m\u001B[1;33m)\u001B[0m\u001B[1;33m\u001B[0m\u001B[1;33m\u001B[0m\u001B[0m\n\u001B[0m\u001B[0;32m     82\u001B[0m     \u001B[0mtype_true\u001B[0m \u001B[1;33m=\u001B[0m \u001B[0mtype_of_target\u001B[0m\u001B[1;33m(\u001B[0m\u001B[0my_true\u001B[0m\u001B[1;33m)\u001B[0m\u001B[1;33m\u001B[0m\u001B[1;33m\u001B[0m\u001B[0m\n\u001B[0;32m     83\u001B[0m     \u001B[0mtype_pred\u001B[0m \u001B[1;33m=\u001B[0m \u001B[0mtype_of_target\u001B[0m\u001B[1;33m(\u001B[0m\u001B[0my_pred\u001B[0m\u001B[1;33m)\u001B[0m\u001B[1;33m\u001B[0m\u001B[1;33m\u001B[0m\u001B[0m\n",
      "\u001B[1;32mC:\\ProgramData\\Anaconda3\\lib\\site-packages\\sklearn\\utils\\validation.py\u001B[0m in \u001B[0;36mcheck_consistent_length\u001B[1;34m(*arrays)\u001B[0m\n\u001B[0;32m    254\u001B[0m     \u001B[0muniques\u001B[0m \u001B[1;33m=\u001B[0m \u001B[0mnp\u001B[0m\u001B[1;33m.\u001B[0m\u001B[0munique\u001B[0m\u001B[1;33m(\u001B[0m\u001B[0mlengths\u001B[0m\u001B[1;33m)\u001B[0m\u001B[1;33m\u001B[0m\u001B[1;33m\u001B[0m\u001B[0m\n\u001B[0;32m    255\u001B[0m     \u001B[1;32mif\u001B[0m \u001B[0mlen\u001B[0m\u001B[1;33m(\u001B[0m\u001B[0muniques\u001B[0m\u001B[1;33m)\u001B[0m \u001B[1;33m>\u001B[0m \u001B[1;36m1\u001B[0m\u001B[1;33m:\u001B[0m\u001B[1;33m\u001B[0m\u001B[1;33m\u001B[0m\u001B[0m\n\u001B[1;32m--> 256\u001B[1;33m         raise ValueError(\"Found input variables with inconsistent numbers of\"\n\u001B[0m\u001B[0;32m    257\u001B[0m                          \" samples: %r\" % [int(l) for l in lengths])\n\u001B[0;32m    258\u001B[0m \u001B[1;33m\u001B[0m\u001B[0m\n",
      "\u001B[1;31mValueError\u001B[0m: Found input variables with inconsistent numbers of samples: [200, 400]"
     ]
    }
   ],
   "source": [
    "# Classification Report with a dataset containing lesser number of words RFC\n",
    "print(classification_report(y_test, predictions_less[\"RandomForestClassifier\"]))"
   ]
  },
  {
   "cell_type": "code",
   "execution_count": null,
   "metadata": {},
   "outputs": [],
   "source": [
    "# Classification Report with a dataset containing lesser number of words SVM\n",
    "print(classification_report(y_test, predictions_less[\"SupportVectorMachines\"]))"
   ]
  },
  {
   "cell_type": "code",
   "execution_count": null,
   "metadata": {},
   "outputs": [],
   "source": [
    "# Classification Report with a dataset containing lesser number of words KNN\n",
    "print(classification_report(y_test, predictions_less[\"KNearestNeighbor\"]))"
   ]
  },
  {
   "cell_type": "markdown",
   "metadata": {},
   "source": [
    "Confusion Matrices"
   ]
  },
  {
   "cell_type": "code",
   "execution_count": null,
   "metadata": {},
   "outputs": [],
   "source": [
    "# Confusion Matrix with a dataset containing lesser number of words RFC\n",
    "sns.heatmap(confusion_matrix(y_test, predictions_less[\"RandomForestClassifier\"]), cmap= \"Blues\", annot=True, fmt='')"
   ]
  },
  {
   "cell_type": "code",
   "execution_count": null,
   "metadata": {},
   "outputs": [],
   "source": [
    "# Confusion Matrix with a dataset containing lesser number of words SVM\n",
    "sns.heatmap(confusion_matrix(y_test, predictions_less[\"SupportVectorMachines\"]), cmap= \"Blues\", annot=True, fmt='')"
   ]
  },
  {
   "cell_type": "code",
   "execution_count": null,
   "metadata": {},
   "outputs": [],
   "source": [
    "# Confusion Matrix with a dataset containing lesser number of words KNearestNeighbor\n",
    "sns.heatmap(confusion_matrix(y_test, predictions_less[\"KNearestNeighbor\"]), cmap= \"Blues\", annot=True, fmt='')"
   ]
  },
  {
   "cell_type": "markdown",
   "metadata": {},
   "source": [
    "Unified comparision"
   ]
  },
  {
   "cell_type": "code",
   "execution_count": null,
   "metadata": {},
   "outputs": [],
   "source": [
    "\n",
    "import matplotlib.patches as mpatches\n",
    "\n",
    "\n",
    "y1=list(model_scores_bow_avg_df.Accuracy) \n",
    "y2=list(model_scores_bow_tdif_avg_df.Accuracy) \n",
    "y3=list(model_scores_no_avg_df.Accuracy) \n",
    "y4=list(model_scores_less_avg_df.Accuracy)\n",
    "\n",
    "x = np.arange(len(z))\n",
    "\n",
    "bar_width = 0.15\n",
    "\n",
    "plt.bar(x, y1, width = bar_width, color= \"green\", zorder=2)\n",
    "plt.bar(x + bar_width, y2, width = bar_width, color= \"red\", zorder=2)\n",
    "plt.bar(x + bar_width*2, y3, width = bar_width, color= \"blue\", zorder=2)\n",
    "plt.bar(x + bar_width*3, y4, width = bar_width, color= \"yellow\", zorder=2)\n",
    "\n",
    "plt.xticks(rotation=45)\n",
    "plt.xticks(x + bar_width*1.5, [\"RandomForestClassifier\",\"SupportVectorMachines\",\"KNearestNeighbor\"] )\n",
    "plt.title(\"Unified Comparision\")\n",
    "plt.xlabel(\"x-axis\")\n",
    "plt.ylabel(\"y-axis\")\n",
    "\n",
    "green_patch= mpatches.Patch(color=\"green\", label=\"BOW\")\n",
    "red_patch= mpatches.Patch(color=\"red\", label=\"BOW+TFIDF\")\n",
    "blue_patch= mpatches.Patch(color=\"blue\", label=\"NO_SW_PUNC\")\n",
    "yellow_patch= mpatches.Patch(color=\"yellow\", label=\"LESS_WORDS\")\n",
    "plt.legend(handles=[green_patch, red_patch, blue_patch, yellow_patch])\n",
    "\n",
    "plt.grid(axis=\"y\")\n",
    "plt.show()"
   ]
  },
  {
   "cell_type": "code",
   "execution_count": null,
   "metadata": {},
   "outputs": [],
   "source": []
  }
 ],
 "metadata": {
  "colab": {
   "name": "Assignment-1-Cleaned.ipynb",
   "provenance": []
  },
  "kernelspec": {
   "display_name": "Python 3",
   "language": "python",
   "name": "python3"
  },
  "language_info": {
   "codemirror_mode": {
    "name": "ipython",
    "version": 3
   },
   "file_extension": ".py",
   "mimetype": "text/x-python",
   "name": "python",
   "nbconvert_exporter": "python",
   "pygments_lexer": "ipython3",
   "version": "3.8.3"
  }
 },
 "nbformat": 4,
 "nbformat_minor": 1
}